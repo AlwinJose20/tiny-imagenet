{
 "cells": [
  {
   "cell_type": "code",
   "execution_count": 1,
   "metadata": {},
   "outputs": [],
   "source": [
    "import torch\n",
    "import torchvision.transforms as transforms\n",
    "from torch.utils import data\n",
    "from tiny_imagenet import TinyImageNet"
   ]
  },
  {
   "cell_type": "markdown",
   "metadata": {},
   "source": [
    "## 步驟\n",
    "- 讀取資料集\n",
    "- 簡單 EDA\n",
    "    - facets\n",
    "- 定義目標 / loss function\n",
    "- 定義模型\n",
    "- 訓練模型\n",
    "- 測試模型\n",
    "- 視覺化 kernels / parameters"
   ]
  },
  {
   "cell_type": "markdown",
   "metadata": {},
   "source": [
    "## 讀取資料\n"
   ]
  },
  {
   "cell_type": "code",
   "execution_count": 2,
   "metadata": {},
   "outputs": [
    {
     "name": "stdout",
     "output_type": "stream",
     "text": [
      "LICENSE             \u001b[34m__pycache__\u001b[m\u001b[m         environment.yaml    tiny-imagenet.ipynb\r\n",
      "README.md           \u001b[34mdataset\u001b[m\u001b[m             \u001b[34mplayground\u001b[m\u001b[m          tiny_imagenet.py\r\n"
     ]
    }
   ],
   "source": [
    "! ls"
   ]
  },
  {
   "cell_type": "code",
   "execution_count": 3,
   "metadata": {},
   "outputs": [],
   "source": [
    "root = './dataset'"
   ]
  },
  {
   "cell_type": "code",
   "execution_count": 25,
   "metadata": {},
   "outputs": [],
   "source": [
    "# params = {'batch_size': 64, 'shuffle': True, 'num_workers': 6}\n",
    "params = {'batch_size': 2, 'shuffle': True, 'num_workers': 1}\n",
    "max_epochs = 100"
   ]
  },
  {
   "cell_type": "code",
   "execution_count": 14,
   "metadata": {},
   "outputs": [],
   "source": [
    "transform = transforms.Compose([\n",
    "    transforms.ToTensor()\n",
    "])"
   ]
  },
  {
   "cell_type": "code",
   "execution_count": 15,
   "metadata": {},
   "outputs": [],
   "source": [
    "training_set = TinyImageNet(root, 'train', transform=transform)\n",
    "validation_set = TinyImageNet(root, 'val', transform=transform)"
   ]
  },
  {
   "cell_type": "code",
   "execution_count": 16,
   "metadata": {},
   "outputs": [
    {
     "data": {
      "text/plain": [
       "Dataset TinyImageNet\n",
       "    Number of datapoints: 100000\n",
       "    Split: train\n",
       "    Root Location: ./dataset\n",
       "    Transforms (if any): Compose(\n",
       "                             ToTensor()\n",
       "                         )\n",
       "    Target Transforms (if any): None"
      ]
     },
     "execution_count": 16,
     "metadata": {},
     "output_type": "execute_result"
    }
   ],
   "source": [
    "training_set"
   ]
  },
  {
   "cell_type": "code",
   "execution_count": 17,
   "metadata": {},
   "outputs": [
    {
     "data": {
      "text/plain": [
       "Dataset TinyImageNet\n",
       "    Number of datapoints: 10000\n",
       "    Split: val\n",
       "    Root Location: ./dataset\n",
       "    Transforms (if any): Compose(\n",
       "                             ToTensor()\n",
       "                         )\n",
       "    Target Transforms (if any): None"
      ]
     },
     "execution_count": 17,
     "metadata": {},
     "output_type": "execute_result"
    }
   ],
   "source": [
    "validation_set"
   ]
  },
  {
   "cell_type": "code",
   "execution_count": 26,
   "metadata": {},
   "outputs": [],
   "source": [
    "training_generator = data.DataLoader(training_set, **params)"
   ]
  },
  {
   "cell_type": "markdown",
   "metadata": {},
   "source": [
    "## 訓練模型"
   ]
  },
  {
   "cell_type": "code",
   "execution_count": 27,
   "metadata": {
    "scrolled": false
   },
   "outputs": [
    {
     "name": "stdout",
     "output_type": "stream",
     "text": [
      "n01910747_436.JPEG\n",
      "n03854065_276.JPEG\n",
      "tensor([[[[ 0.2000,  0.2039,  0.2118,  ...,  0.2471,  0.2471,  0.2392],\n",
      "          [ 0.1922,  0.1961,  0.2078,  ...,  0.2471,  0.2431,  0.2431],\n",
      "          [ 0.1765,  0.1843,  0.1961,  ...,  0.2431,  0.2471,  0.2471],\n",
      "          ...,\n",
      "          [ 0.0667,  0.0667,  0.0667,  ...,  0.1020,  0.1020,  0.1020],\n",
      "          [ 0.0627,  0.0627,  0.0627,  ...,  0.1059,  0.1020,  0.0980],\n",
      "          [ 0.0627,  0.0627,  0.0627,  ...,  0.1020,  0.0941,  0.0902]],\n",
      "\n",
      "         [[ 0.3961,  0.4000,  0.4078,  ...,  0.4706,  0.4667,  0.4588],\n",
      "          [ 0.4000,  0.4039,  0.4157,  ...,  0.4706,  0.4667,  0.4627],\n",
      "          [ 0.3922,  0.4000,  0.4118,  ...,  0.4784,  0.4706,  0.4667],\n",
      "          ...,\n",
      "          [ 0.2784,  0.2784,  0.2745,  ...,  0.2863,  0.2824,  0.2824],\n",
      "          [ 0.2745,  0.2745,  0.2706,  ...,  0.2667,  0.2627,  0.2588],\n",
      "          [ 0.2745,  0.2745,  0.2745,  ...,  0.2549,  0.2471,  0.2431]],\n",
      "\n",
      "         [[ 0.2902,  0.2941,  0.2941,  ...,  0.3333,  0.3294,  0.3137],\n",
      "          [ 0.2902,  0.2941,  0.2980,  ...,  0.3333,  0.3294,  0.3176],\n",
      "          [ 0.2784,  0.2863,  0.2902,  ...,  0.3373,  0.3333,  0.3216],\n",
      "          ...,\n",
      "          [ 0.1529,  0.1529,  0.1569,  ...,  0.2235,  0.2314,  0.2314],\n",
      "          [ 0.1412,  0.1490,  0.1529,  ...,  0.2353,  0.2392,  0.2353],\n",
      "          [ 0.1412,  0.1412,  0.1490,  ...,  0.2353,  0.2431,  0.2392]]],\n",
      "\n",
      "\n",
      "        [[[ 0.3686,  0.3922,  0.4000,  ...,  0.3961,  0.3804,  0.3647],\n",
      "          [ 0.3569,  0.3804,  0.3961,  ...,  0.4039,  0.3843,  0.3765],\n",
      "          [ 0.3333,  0.3725,  0.4000,  ...,  0.3961,  0.3843,  0.3725],\n",
      "          ...,\n",
      "          [ 0.1020,  0.1020,  0.1098,  ...,  0.1373,  0.0980,  0.0745],\n",
      "          [ 0.1137,  0.1137,  0.1176,  ...,  0.1216,  0.0980,  0.0863],\n",
      "          [ 0.1137,  0.1098,  0.1020,  ...,  0.1216,  0.1294,  0.1412]],\n",
      "\n",
      "         [[ 0.3020,  0.3137,  0.3216,  ...,  0.3020,  0.2863,  0.2706],\n",
      "          [ 0.2784,  0.3020,  0.3176,  ...,  0.3020,  0.2902,  0.2824],\n",
      "          [ 0.2549,  0.2863,  0.3137,  ...,  0.2941,  0.2824,  0.2706],\n",
      "          ...,\n",
      "          [ 0.0627,  0.0627,  0.0706,  ...,  0.1020,  0.0627,  0.0392],\n",
      "          [ 0.0745,  0.0745,  0.0784,  ...,  0.0863,  0.0627,  0.0510],\n",
      "          [ 0.0745,  0.0706,  0.0627,  ...,  0.0863,  0.0941,  0.1059]],\n",
      "\n",
      "         [[ 0.2000,  0.2157,  0.2235,  ...,  0.1922,  0.1765,  0.1608],\n",
      "          [ 0.1804,  0.2039,  0.2196,  ...,  0.1961,  0.1804,  0.1725],\n",
      "          [ 0.1569,  0.1922,  0.2196,  ...,  0.1882,  0.1765,  0.1647],\n",
      "          ...,\n",
      "          [ 0.0275,  0.0275,  0.0353,  ...,  0.0667,  0.0275,  0.0039],\n",
      "          [ 0.0392,  0.0392,  0.0431,  ...,  0.0510,  0.0275,  0.0157],\n",
      "          [ 0.0392,  0.0353,  0.0275,  ...,  0.0510,  0.0588,  0.0706]]]])\n",
      "torch.Size([2, 3, 64, 64])\n",
      "tensor([  13,  126])\n",
      "torch.Size([2])\n",
      "n07614500_111.JPEG\n",
      "n02999410_116.JPEG\n",
      "n02002724_173.JPEG\n",
      "n06596364_234.JPEG\n"
     ]
    }
   ],
   "source": [
    "for epoch in range(max_epochs):\n",
    "    for local_batch, local_labels in training_generator:\n",
    "        print(local_batch)\n",
    "        print(local_batch.shape)\n",
    "        print(local_labels)\n",
    "        print(local_labels.shape)\n",
    "        break\n",
    "    break"
   ]
  },
  {
   "cell_type": "code",
   "execution_count": null,
   "metadata": {},
   "outputs": [],
   "source": []
  },
  {
   "cell_type": "code",
   "execution_count": null,
   "metadata": {},
   "outputs": [],
   "source": []
  },
  {
   "cell_type": "code",
   "execution_count": null,
   "metadata": {},
   "outputs": [],
   "source": []
  },
  {
   "cell_type": "code",
   "execution_count": null,
   "metadata": {},
   "outputs": [],
   "source": []
  }
 ],
 "metadata": {
  "kernelspec": {
   "display_name": "Python 3",
   "language": "python",
   "name": "python3"
  },
  "language_info": {
   "codemirror_mode": {
    "name": "ipython",
    "version": 3
   },
   "file_extension": ".py",
   "mimetype": "text/x-python",
   "name": "python",
   "nbconvert_exporter": "python",
   "pygments_lexer": "ipython3",
   "version": "3.6.5"
  },
  "toc": {
   "nav_menu": {},
   "number_sections": true,
   "sideBar": false,
   "skip_h1_title": false,
   "toc_cell": false,
   "toc_position": {},
   "toc_section_display": "block",
   "toc_window_display": false
  },
  "varInspector": {
   "cols": {
    "lenName": 16,
    "lenType": 16,
    "lenVar": 40
   },
   "kernels_config": {
    "python": {
     "delete_cmd_postfix": "",
     "delete_cmd_prefix": "del ",
     "library": "var_list.py",
     "varRefreshCmd": "print(var_dic_list())"
    },
    "r": {
     "delete_cmd_postfix": ") ",
     "delete_cmd_prefix": "rm(",
     "library": "var_list.r",
     "varRefreshCmd": "cat(var_dic_list()) "
    }
   },
   "types_to_exclude": [
    "module",
    "function",
    "builtin_function_or_method",
    "instance",
    "_Feature"
   ],
   "window_display": false
  }
 },
 "nbformat": 4,
 "nbformat_minor": 2
}
